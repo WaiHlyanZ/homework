{
 "cells": [
  {
   "cell_type": "code",
   "execution_count": 1,
   "metadata": {},
   "outputs": [
    {
     "name": "stdout",
     "output_type": "stream",
     "text": [
      "7\n",
      "['MTT', 'SWT', 'LYT', 'KP', 'WMT', 'WYA', 'WHPP']\n",
      "LYT\n",
      "blamer\n"
     ]
    }
   ],
   "source": [
    "students = ['MTT', 'SWT', 'LYT', 'KP', 'WMT',  'WYA', 'WHPP']\n",
    "print(len(students))\n",
    "print(students)\n",
    "print(students[2])\n",
    "students[2] = 'blamer'\n",
    "print(students[2])"
   ]
  },
  {
   "cell_type": "code",
   "execution_count": 10,
   "metadata": {},
   "outputs": [
    {
     "name": "stdout",
     "output_type": "stream",
     "text": [
      "12\n",
      "12\n"
     ]
    }
   ],
   "source": [
    "standardHours = [12, 1, 2, 3, 4, 5, 6, 7, 8, 9, 10, 11]\n",
    "print(len(standardHours))\n",
    "hr_military = int(input(\"Enter military hour:\"))\n",
    "print(standardHours[hr_military - len(standardHours)])\n",
    "final = (standardHours[hr_military % len(standardHours)])"
   ]
  },
  {
   "cell_type": "code",
   "execution_count": 15,
   "metadata": {},
   "outputs": [],
   "source": [
    "hr_military = int(input(\"Enter military hour:\"))\n",
    "if hr_military >= 12 and hr_military < 24:\n",
    "    print(final, )"
   ]
  }
 ],
 "metadata": {
  "kernelspec": {
   "display_name": "Python 3",
   "language": "python",
   "name": "python3"
  },
  "language_info": {
   "codemirror_mode": {
    "name": "ipython",
    "version": 3
   },
   "file_extension": ".py",
   "mimetype": "text/x-python",
   "name": "python",
   "nbconvert_exporter": "python",
   "pygments_lexer": "ipython3",
   "version": "3.10.8 (tags/v3.10.8:aaaf517, Oct 11 2022, 16:50:30) [MSC v.1933 64 bit (AMD64)]"
  },
  "orig_nbformat": 4,
  "vscode": {
   "interpreter": {
    "hash": "fbda63d15291817ea43ce10311e7cb7ec214fbf20311fe367fb37ffb6bb64334"
   }
  }
 },
 "nbformat": 4,
 "nbformat_minor": 2
}
