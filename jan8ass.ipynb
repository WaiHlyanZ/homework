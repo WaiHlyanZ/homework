{
 "cells": [
  {
   "cell_type": "code",
   "execution_count": 6,
   "metadata": {},
   "outputs": [
    {
     "name": "stdout",
     "output_type": "stream",
     "text": [
      "Too high\n",
      "Too low\n",
      "Too low\n",
      "Too low\n",
      "Correct!\n"
     ]
    }
   ],
   "source": [
    "#Guess the number\n",
    "import random\n",
    "r=random.randint(1,99)\n",
    "while True:\n",
    "  guess=int(input('Guess a number between 0 and 100 : '))\n",
    "  if guess<r:\n",
    "    print('Too low')\n",
    "  elif guess>r:\n",
    "    print('Too high')\n",
    "  else:\n",
    "    print('Correct!')\n",
    "    break\n"
   ]
  },
  {
   "cell_type": "code",
   "execution_count": 7,
   "metadata": {},
   "outputs": [
    {
     "name": "stdout",
     "output_type": "stream",
     "text": [
      "36\n"
     ]
    }
   ],
   "source": [
    "#Summing numbers from a list\n",
    "result=0\n",
    "list=[1,2,3,4,5,6,7,8]\n",
    "for i in list:\n",
    "    result+=i\n",
    "print(result)"
   ]
  },
  {
   "cell_type": "code",
   "execution_count": null,
   "metadata": {},
   "outputs": [],
   "source": [
    "#Secret Language conversion\n",
    "vocab=input('Write down something : ')\n",
    "vowel=['a','e','i','o','u']\n",
    "f=vocab[0]\n",
    "if f in vowel:\n",
    "  print(vocab+'way')\n",
    "else:\n",
    "  print(vocab[1:]+vocab[0]+'ay')"
   ]
  },
  {
   "cell_type": "code",
   "execution_count": 2,
   "metadata": {},
   "outputs": [
    {
     "name": "stdout",
     "output_type": "stream",
     "text": [
      "[1, 5]\n",
      "['a', 'd']\n"
     ]
    }
   ],
   "source": [
    "#[First, Last] list\n",
    "mylist = [1,2,3,4,5]\n",
    "mylist2 = ['a','b','c','d']\n",
    "print([mylist[0],mylist[-1]])\n",
    "print([mylist2[0],mylist2[-1]])"
   ]
  },
  {
   "cell_type": "code",
   "execution_count": null,
   "metadata": {},
   "outputs": [],
   "source": [
    "#Hobbies list\n",
    "hobby=['Cooking','Travelling']\n",
    "user=input('What is your fav hobby?')\n",
    "hobby.append(user.title())\n",
    "hobby.sort()\n",
    "print(hobby)"
   ]
  },
  {
   "cell_type": "code",
   "execution_count": 3,
   "metadata": {},
   "outputs": [
    {
     "name": "stdout",
     "output_type": "stream",
     "text": [
      "['Myanmar', 'English', 'Mathematics', 'Chemistry', 'Physics', 'Biology']\n",
      "['English', 'Mathematics', 'Chemistry', 'Physics', 'Biology']\n"
     ]
    }
   ],
   "source": [
    "#Delete unfavorite subjects\n",
    "sub=['Myanmar','English','Mathematics','Chemistry','Physics','Biology']\n",
    "print(sub)\n",
    "dislike=input('Subject you don\\'t like : ')\n",
    "del sub[sub.index(dislike)]\n",
    "print(sub)"
   ]
  }
 ],
 "metadata": {
  "kernelspec": {
   "display_name": "Python 3",
   "language": "python",
   "name": "python3"
  },
  "language_info": {
   "codemirror_mode": {
    "name": "ipython",
    "version": 3
   },
   "file_extension": ".py",
   "mimetype": "text/x-python",
   "name": "python",
   "nbconvert_exporter": "python",
   "pygments_lexer": "ipython3",
   "version": "3.10.8"
  },
  "orig_nbformat": 4,
  "vscode": {
   "interpreter": {
    "hash": "fbda63d15291817ea43ce10311e7cb7ec214fbf20311fe367fb37ffb6bb64334"
   }
  }
 },
 "nbformat": 4,
 "nbformat_minor": 2
}
