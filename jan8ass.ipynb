{
 "cells": [
  {
   "cell_type": "code",
   "execution_count": 1,
   "metadata": {},
   "outputs": [],
   "source": [
    "#Guess the number\n",
    "import random\n",
    "r=random.randint(1,99)\n",
    "while True:\n",
    "  guess=int(input('Guess a number between 0 and 100 : '))\n",
    "  if guess<r:\n",
    "    print('Too low')\n",
    "  elif guess>r:\n",
    "    print('Too high')\n",
    "  else:\n",
    "    print('Correct!')\n",
    "    break\n"
   ]
  },
  {
   "cell_type": "code",
   "execution_count": 17,
   "metadata": {},
   "outputs": [
    {
     "ename": "ModuleNotFoundError",
     "evalue": "No module named 'append'",
     "output_type": "error",
     "traceback": [
      "\u001b[1;31m---------------------------------------------------------------------------\u001b[0m",
      "\u001b[1;31mModuleNotFoundError\u001b[0m                       Traceback (most recent call last)",
      "Cell \u001b[1;32mIn [17], line 2\u001b[0m\n\u001b[0;32m      1\u001b[0m \u001b[39m#sum2\u001b[39;00m\n\u001b[1;32m----> 2\u001b[0m \u001b[39mimport\u001b[39;00m \u001b[39mappend\u001b[39;00m\n\u001b[0;32m      3\u001b[0m mylist \u001b[39m=\u001b[39m [\u001b[39m1\u001b[39m,\u001b[39m2\u001b[39m,\u001b[39m3\u001b[39m,\u001b[39m4\u001b[39m,\u001b[39m5\u001b[39m,\u001b[39m6\u001b[39m,\u001b[39m7\u001b[39m,\u001b[39m8\u001b[39m]\n\u001b[0;32m      4\u001b[0m total_num \u001b[39m=\u001b[39m append(mylist)\n",
      "\u001b[1;31mModuleNotFoundError\u001b[0m: No module named 'append'"
     ]
    }
   ],
   "source": [
    "#Summing numbers from a list\n",
    "result=0\n",
    "list=[1,2,3,4,5,6,7,8]\n",
    "for i in list:\n",
    "    result+=i\n",
    "print(result)"
   ]
  },
  {
   "cell_type": "code",
   "execution_count": null,
   "metadata": {},
   "outputs": [],
   "source": [
    "#sum3\n",
    "engword = input('Type english word:')\n"
   ]
  }
 ],
 "metadata": {
  "kernelspec": {
   "display_name": "Python 3",
   "language": "python",
   "name": "python3"
  },
  "language_info": {
   "codemirror_mode": {
    "name": "ipython",
    "version": 3
   },
   "file_extension": ".py",
   "mimetype": "text/x-python",
   "name": "python",
   "nbconvert_exporter": "python",
   "pygments_lexer": "ipython3",
   "version": "3.10.8 (tags/v3.10.8:aaaf517, Oct 11 2022, 16:50:30) [MSC v.1933 64 bit (AMD64)]"
  },
  "orig_nbformat": 4,
  "vscode": {
   "interpreter": {
    "hash": "fbda63d15291817ea43ce10311e7cb7ec214fbf20311fe367fb37ffb6bb64334"
   }
  }
 },
 "nbformat": 4,
 "nbformat_minor": 2
}
