{
 "cells": [
  {
   "cell_type": "code",
   "execution_count": 2,
   "metadata": {},
   "outputs": [
    {
     "data": {
      "text/plain": [
       "5"
      ]
     },
     "execution_count": 2,
     "metadata": {},
     "output_type": "execute_result"
    }
   ],
   "source": [
    "#Sum 1\n",
    "def get_nth_digit(k, n):\n",
    "    return int(str(k)[-n])\n",
    "get_nth_digit(375416,4)"
   ]
  },
  {
   "cell_type": "code",
   "execution_count": 1,
   "metadata": {},
   "outputs": [
    {
     "data": {
      "text/plain": [
       "111"
      ]
     },
     "execution_count": 1,
     "metadata": {},
     "output_type": "execute_result"
    }
   ],
   "source": [
    "#Sum 2\n",
    "def get_int(string, separator, n):\n",
    "  return int(string.split(separator)[n])\n",
    "def format_sum(int_string):\n",
    "  x=0\n",
    "  for n in range(4):\n",
    "    x+= get_int(int_string,'+',n)\n",
    "  return x\n",
    "format_sum('100+10+1+0')"
   ]
  },
  {
   "cell_type": "code",
   "execution_count": null,
   "metadata": {},
   "outputs": [],
   "source": [
    "#Sum 3\n",
    "def time_to_seconds(time):\n",
    "  x = list(map(int, time.split(\":\")))\n",
    "  return x[0] * 3600 + x[1]*60 + x[2]\n",
    "def make_time_string(hours, mins, seconds):\n",
    "  return \"{:02d}:{:02d}:{:02d}\".format(hours, mins, seconds)\n",
    "def time_difference(time1, time2):\n",
    "  d= time_to_seconds(time2)-time_to_seconds(time1)\n",
    "  hours=d//3600\n",
    "  mins=(d%3600)//60\n",
    "  seconds=(d%3600)%60\n",
    "  return make_time_string(hours, mins, seconds)\n",
    "time_difference('01:02:03', '13:12:11')"
   ]
  },
  {
   "cell_type": "code",
   "execution_count": null,
   "metadata": {},
   "outputs": [],
   "source": [
    "#Sum 4\n",
    "def triangle(side1, side2, side3):\n",
    "  if side1>=(side2+side3) or side2>=(side1+side3) or side3>=(side1+side2):\n",
    "    return \"Not a triangle\"\n",
    "  else:\n",
    "    if side1==side2==side3:\n",
    "      return \"Equilateral\"\n",
    "    elif (side1==side2) or (side1==side3) or (side2==side3):\n",
    "      return \"Isosceles\"\n",
    "    else:\n",
    "      return \"Scalene\" \n",
    "triangle(60, 80, 30)"
   ]
  }
 ],
 "metadata": {
  "kernelspec": {
   "display_name": "Python 3",
   "language": "python",
   "name": "python3"
  },
  "language_info": {
   "codemirror_mode": {
    "name": "ipython",
    "version": 3
   },
   "file_extension": ".py",
   "mimetype": "text/x-python",
   "name": "python",
   "nbconvert_exporter": "python",
   "pygments_lexer": "ipython3",
   "version": "3.10.8 (tags/v3.10.8:aaaf517, Oct 11 2022, 16:50:30) [MSC v.1933 64 bit (AMD64)]"
  },
  "orig_nbformat": 4,
  "vscode": {
   "interpreter": {
    "hash": "fbda63d15291817ea43ce10311e7cb7ec214fbf20311fe367fb37ffb6bb64334"
   }
  }
 },
 "nbformat": 4,
 "nbformat_minor": 2
}
