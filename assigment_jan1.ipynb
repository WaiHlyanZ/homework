{
 "cells": [
  {
   "cell_type": "code",
   "execution_count": 4,
   "metadata": {},
   "outputs": [
    {
     "name": "stdout",
     "output_type": "stream",
     "text": [
      "wai\n",
      "wai\n"
     ]
    }
   ],
   "source": [
    "#Assignment 1\n",
    "name=input('What is your name?')\n",
    "num=int(input('Put a number:'))\n",
    "if num<10:\n",
    "    for item in range(num):\n",
    "        print(name)\n",
    "else:\n",
    "    for j in range(3):\n",
    "        print('Number is too high.')"
   ]
  },
  {
   "cell_type": "code",
   "execution_count": 1,
   "metadata": {},
   "outputs": [
    {
     "name": "stdout",
     "output_type": "stream",
     "text": [
      "Total result: 4\n"
     ]
    }
   ],
   "source": [
    "#Assignment 2\n",
    "total=0\n",
    "for i in range(5):\n",
    "    n=int(input('Put a number:'))\n",
    "    ans=input(\"Do you want that number included? (y)es or (n)o:\")\n",
    "    if ans=='y':\n",
    "        total+=n\n",
    "print('Total result:',total)"
   ]
  },
  {
   "cell_type": "code",
   "execution_count": null,
   "metadata": {},
   "outputs": [],
   "source": [
    "#Assignmet 3\n",
    "up_d=input(\"Choose a direction 'Up' or 'Down' :\")\n",
    "if up_d=='Up':\n",
    "    num=int(input('Maximum number: '))\n",
    "    for i in range(1,num+1):\n",
    "        print(i)\n",
    "elif up_d=='Down':\n",
    "    num=int(input('A number under 20: '))\n",
    "    for i in range(20,num-1,-1):\n",
    "        print(i)\n",
    "else:\n",
    "    print('I don\\'t understand.')"
   ]
  },
  {
   "cell_type": "code",
   "execution_count": null,
   "metadata": {},
   "outputs": [],
   "source": [
    "#Assignmet 4\n",
    "amount = int(input('How many people do you want to invite?'))\n",
    "if amount < 10 and amount > 0:\n",
    "    for i in range(amount):\n",
    "        name = input('What is the person\\'s name?')\n",
    "        print(f'{name} has been invited.')\n",
    "elif amount >= 10:\n",
    "    print('Too many people.')\n",
    "else:\n",
    "    print('Stop this nonsense!')"
   ]
  }
 ],
 "metadata": {
  "kernelspec": {
   "display_name": "Python 3",
   "language": "python",
   "name": "python3"
  },
  "language_info": {
   "codemirror_mode": {
    "name": "ipython",
    "version": 3
   },
   "file_extension": ".py",
   "mimetype": "text/x-python",
   "name": "python",
   "nbconvert_exporter": "python",
   "pygments_lexer": "ipython3",
   "version": "3.10.8 (tags/v3.10.8:aaaf517, Oct 11 2022, 16:50:30) [MSC v.1933 64 bit (AMD64)]"
  },
  "orig_nbformat": 4,
  "vscode": {
   "interpreter": {
    "hash": "fbda63d15291817ea43ce10311e7cb7ec214fbf20311fe367fb37ffb6bb64334"
   }
  }
 },
 "nbformat": 4,
 "nbformat_minor": 2
}
