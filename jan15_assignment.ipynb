{
 "cells": [
  {
   "cell_type": "code",
   "execution_count": 1,
   "metadata": {},
   "outputs": [
    {
     "name": "stdout",
     "output_type": "stream",
     "text": [
      "43\n"
     ]
    }
   ],
   "source": [
    "def num(digit):\n",
    "  count=0\n",
    "  for i in str(digit):\n",
    "    count+=1\n",
    "  print(count)\n",
    "num(1010101010100100010101001010010101010010100)"
   ]
  },
  {
   "cell_type": "code",
   "execution_count": 19,
   "metadata": {},
   "outputs": [
    {
     "data": {
      "text/plain": [
       "13"
      ]
     },
     "execution_count": 19,
     "metadata": {},
     "output_type": "execute_result"
    }
   ],
   "source": [
    "def bigger_sum(a,b,c):\n",
    "  empty=[]\n",
    "  for i in a,b,c:\n",
    "    empty.append(i)\n",
    "  lar=max(empty)\n",
    "  empty.remove(lar)\n",
    "  sec_lar=max(empty)\n",
    "  result=(lar**2)+(sec_lar**2)\n",
    "  return result\n",
    "bigger_sum(3,0,2)"
   ]
  },
  {
   "cell_type": "code",
   "execution_count": 8,
   "metadata": {},
   "outputs": [
    {
     "data": {
      "text/plain": [
       "True"
      ]
     },
     "execution_count": 8,
     "metadata": {},
     "output_type": "execute_result"
    }
   ],
   "source": [
    "def is_leap_year(year):\n",
    "  if (year % 400 ==0 or year%100!=0) and year % 4==0:\n",
    "    return True\n",
    "  else:\n",
    "    return False\n",
    "is_leap_year(2000)"
   ]
  },
  {
   "cell_type": "code",
   "execution_count": 11,
   "metadata": {},
   "outputs": [
    {
     "data": {
      "text/plain": [
       "28.274333882308138"
      ]
     },
     "execution_count": 11,
     "metadata": {},
     "output_type": "execute_result"
    }
   ],
   "source": [
    "import math\n",
    "def area_of_circle(redius):\n",
    "    answer = math.pi * (redius ** 2)\n",
    "    return answer\n",
    "area_of_circle(3)"
   ]
  }
 ],
 "metadata": {
  "kernelspec": {
   "display_name": "Python 3",
   "language": "python",
   "name": "python3"
  },
  "language_info": {
   "codemirror_mode": {
    "name": "ipython",
    "version": 3
   },
   "file_extension": ".py",
   "mimetype": "text/x-python",
   "name": "python",
   "nbconvert_exporter": "python",
   "pygments_lexer": "ipython3",
   "version": "3.10.8"
  },
  "orig_nbformat": 4,
  "vscode": {
   "interpreter": {
    "hash": "fbda63d15291817ea43ce10311e7cb7ec214fbf20311fe367fb37ffb6bb64334"
   }
  }
 },
 "nbformat": 4,
 "nbformat_minor": 2
}
